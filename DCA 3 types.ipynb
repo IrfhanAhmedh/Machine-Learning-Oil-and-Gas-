{
  "cells": [
    {
      "cell_type": "markdown",
      "metadata": {
        "id": "view-in-github",
        "colab_type": "text"
      },
      "source": [
        "<a href=\"https://colab.research.google.com/github/IrfhanAhmedh/Machine-Learning-Oil-and-Gas-/blob/main/DCA%203%20types.ipynb\" target=\"_parent\"><img src=\"https://colab.research.google.com/assets/colab-badge.svg\" alt=\"Open In Colab\"/></a>"
      ]
    },
    {
      "cell_type": "code",
      "source": [
        "import numpy as np\n",
        "import pandas as pd\n",
        "import matplotlib.pyplot as plt"
      ],
      "metadata": {
        "id": "u1_9OGjzaFZA"
      },
      "execution_count": 36,
      "outputs": []
    },
    {
      "cell_type": "code",
      "source": [
        "df=pd.read_excel('Datase.xlsx')\n",
        "dfa=np.array(df)\n",
        "x=dfa[:,0]\n",
        "y=dfa[:,1]\n"
      ],
      "metadata": {
        "id": "KOZnJ_LveuM5"
      },
      "execution_count": 37,
      "outputs": []
    },
    {
      "cell_type": "code",
      "source": [
        "def harmonic(d):\n",
        " qi=10\n",
        " c=1+(d*x)\n",
        " q_=qi/c\n",
        " plt.figure(figsize=[10,5])\n",
        " plt.grid(color='white', linestyle='-.', linewidth=0.7)\n",
        " plt.scatter(x,y,color='Pink')\n",
        " plt.plot(x,q_)\n",
        " plt.legend(['Time vs Flow rate'])\n",
        " plt.xlabel(\"time\")\n",
        " plt.ylabel(\"Production rate\")\n",
        " plt.title('HARMONIC DECLINE CURVE ANALYSIS')\n",
        " plt.show()\n",
        " plt.style.use('seaborn-whitegrid')"
      ],
      "metadata": {
        "id": "WuZPRnTPe_ZG"
      },
      "execution_count": 76,
      "outputs": []
    },
    {
      "cell_type": "code",
      "source": [
        "def hyperbolic(d,b):\n",
        " qi=10\n",
        " c=1+(d*x*b)\n",
        " d=c**(1/b)\n",
        " q_=qi/d\n",
        " plt.figure(figsize=[10,5])\n",
        " plt.grid(color='white', linestyle='-.', linewidth=0.7)\n",
        " plt.scatter(x,y,color='Pink')\n",
        " plt.plot(x,q_)\n",
        " plt.legend(['Time vs Flow rate'])\n",
        " plt.xlabel(\"time\")\n",
        " plt.ylabel(\"Production rate\")\n",
        " plt.title('HYPERBOLIC DECLINE CURVE ANALYSIS')\n",
        " plt.show()\n",
        " plt.style.use('seaborn-whitegrid')"
      ],
      "metadata": {
        "id": "r4Ap6G2xlp4U"
      },
      "execution_count": 78,
      "outputs": []
    },
    {
      "cell_type": "code",
      "source": [
        "def exponential(d):\n",
        " qi=10\n",
        " c=np.exp(-d*x)\n",
        " q_=qi*c\n",
        " plt.figure(figsize=[10,5])\n",
        " plt.grid(color='white', linestyle='-.', linewidth=0.7)\n",
        " plt.scatter(x,y,color='Pink')\n",
        " plt.plot(x,q_,color='yellow')\n",
        " plt.legend(['Time vs Flow rate'])\n",
        " plt.xlabel(\"time\")\n",
        " plt.ylabel(\"Production rate\")\n",
        " plt.title('EXPONENTIAL DECLINE CURVE ANALYSIS')\n",
        " plt.show()\n",
        " plt.style.use('seaborn-poster')"
      ],
      "metadata": {
        "id": "UdmEqFoqiBXk"
      },
      "execution_count": 81,
      "outputs": []
    },
    {
      "cell_type": "code",
      "source": [
        "from ipywidgets import interact,interactive\n",
        "interactive(harmonic , d=(0.1,0.5,0.01))"
      ],
      "metadata": {
        "colab": {
          "base_uri": "https://localhost:8080/",
          "height": 401,
          "referenced_widgets": [
            "865c6c89bd5c4c85992d1376bf76f791",
            "354d52685058493e89981751581551e4",
            "aaab137fd8574391aa59ecb1187c4777",
            "6ffb22720f45419396f8d89b30116132",
            "1653530919464056a6eafc8470d9cd0e",
            "f115566aaeb7408a9a8c9ce83e651b2a",
            "1e2a4e9d41624966affe922115eb88dd"
          ]
        },
        "id": "zkUDUMM2fnmH",
        "outputId": "aae98318-55b5-4913-aeed-5f2588f67235"
      },
      "execution_count": 82,
      "outputs": [
        {
          "output_type": "display_data",
          "data": {
            "text/plain": [
              "interactive(children=(FloatSlider(value=0.30000000000000004, description='d', max=0.5, min=0.1, step=0.01), Ou…"
            ],
            "application/vnd.jupyter.widget-view+json": {
              "version_major": 2,
              "version_minor": 0,
              "model_id": "865c6c89bd5c4c85992d1376bf76f791"
            }
          },
          "metadata": {}
        }
      ]
    },
    {
      "cell_type": "code",
      "source": [
        "interactive(exponential , d=(0.1,0.5,0.01))"
      ],
      "metadata": {
        "colab": {
          "base_uri": "https://localhost:8080/",
          "height": 401,
          "referenced_widgets": [
            "a5497c0eb4ac4830baa0e70da5dba260",
            "00c072763b564e66967386ab04de4272",
            "add8fc547df64549b0978883fd931540",
            "c5057326294948079edd48fa829a6bc4",
            "f1f1e6b0e62d4250a94e54f3da9d93b4",
            "1be88e8a44374155891d35b98b45becc",
            "4bbdbb9239a84c3d867b71b94a9ead69"
          ]
        },
        "id": "AELNsUd6iUQ-",
        "outputId": "664d6f5d-76e7-43e8-96a4-e4c9ac062247"
      },
      "execution_count": 83,
      "outputs": [
        {
          "output_type": "display_data",
          "data": {
            "text/plain": [
              "interactive(children=(FloatSlider(value=0.30000000000000004, description='d', max=0.5, min=0.1, step=0.01), Ou…"
            ],
            "application/vnd.jupyter.widget-view+json": {
              "version_major": 2,
              "version_minor": 0,
              "model_id": "a5497c0eb4ac4830baa0e70da5dba260"
            }
          },
          "metadata": {}
        }
      ]
    },
    {
      "cell_type": "code",
      "source": [
        "interactive(hyperbolic , d=(0.1,0.5,0.01),b=(.1,1,.02))"
      ],
      "metadata": {
        "id": "b4JwLZanmDwS",
        "outputId": "e430d44f-13b6-4db9-862b-32e31a6a0086",
        "colab": {
          "base_uri": "https://localhost:8080/",
          "height": 433,
          "referenced_widgets": [
            "e2212ebcaf0c479e90d618a6eeb36b2f",
            "4549508155ed419ca222ff1c8d4511c2",
            "df0f9a12d7ca4126be15c9d45c684d75",
            "c57a0cd545574f999a3fbb1485315615",
            "ee813086c1c54e5e9f2155f7f3b3062d",
            "9b016c1e7da84d3785be1b43c1c1c973",
            "ba78008cc55a43f9ac1aa04c483b2631",
            "856e2e7a54f24b349098bd320b7fdd8a",
            "a650b30ffaf64b998cbd196a42c3a0fa",
            "737924fd0ca14fc2ab8bcfe7a5fd58b9"
          ]
        }
      },
      "execution_count": 79,
      "outputs": [
        {
          "output_type": "display_data",
          "data": {
            "text/plain": [
              "interactive(children=(FloatSlider(value=0.30000000000000004, description='d', max=0.5, min=0.1, step=0.01), Fl…"
            ],
            "application/vnd.jupyter.widget-view+json": {
              "version_major": 2,
              "version_minor": 0,
              "model_id": "e2212ebcaf0c479e90d618a6eeb36b2f"
            }
          },
          "metadata": {}
        }
      ]
    }
  ],
  "metadata": {
    "colab": {
      "collapsed_sections": [],
      "name": "Welcome To Colaboratory",
      "provenance": [],
      "include_colab_link": true
    },
    "kernelspec": {
      "display_name": "Python 3",
      "name": "python3"
    },
    "widgets": {
      "application/vnd.jupyter.widget-state+json": {
        "865c6c89bd5c4c85992d1376bf76f791": {
          "model_module": "@jupyter-widgets/controls",
          "model_name": "VBoxModel",
          "model_module_version": "1.5.0",
          "state": {
            "_dom_classes": [
              "widget-interact"
            ],
            "_model_module": "@jupyter-widgets/controls",
            "_model_module_version": "1.5.0",
            "_model_name": "VBoxModel",
            "_view_count": null,
            "_view_module": "@jupyter-widgets/controls",
            "_view_module_version": "1.5.0",
            "_view_name": "VBoxView",
            "box_style": "",
            "children": [
              "IPY_MODEL_354d52685058493e89981751581551e4",
              "IPY_MODEL_aaab137fd8574391aa59ecb1187c4777"
            ],
            "layout": "IPY_MODEL_6ffb22720f45419396f8d89b30116132"
          }
        },
        "354d52685058493e89981751581551e4": {
          "model_module": "@jupyter-widgets/controls",
          "model_name": "FloatSliderModel",
          "model_module_version": "1.5.0",
          "state": {
            "_dom_classes": [],
            "_model_module": "@jupyter-widgets/controls",
            "_model_module_version": "1.5.0",
            "_model_name": "FloatSliderModel",
            "_view_count": null,
            "_view_module": "@jupyter-widgets/controls",
            "_view_module_version": "1.5.0",
            "_view_name": "FloatSliderView",
            "continuous_update": true,
            "description": "d",
            "description_tooltip": null,
            "disabled": false,
            "layout": "IPY_MODEL_1653530919464056a6eafc8470d9cd0e",
            "max": 0.5,
            "min": 0.1,
            "orientation": "horizontal",
            "readout": true,
            "readout_format": ".2f",
            "step": 0.01,
            "style": "IPY_MODEL_f115566aaeb7408a9a8c9ce83e651b2a",
            "value": 0.30000000000000004
          }
        },
        "aaab137fd8574391aa59ecb1187c4777": {
          "model_module": "@jupyter-widgets/output",
          "model_name": "OutputModel",
          "model_module_version": "1.0.0",
          "state": {
            "_dom_classes": [],
            "_model_module": "@jupyter-widgets/output",
            "_model_module_version": "1.0.0",
            "_model_name": "OutputModel",
            "_view_count": null,
            "_view_module": "@jupyter-widgets/output",
            "_view_module_version": "1.0.0",
            "_view_name": "OutputView",
            "layout": "IPY_MODEL_1e2a4e9d41624966affe922115eb88dd",
            "msg_id": "",
            "outputs": [
              {
                "output_type": "display_data",
                "data": {
                  "text/plain": "<Figure size 720x360 with 1 Axes>",
                  "image/png": "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\n"
                },
                "metadata": {}
              }
            ]
          }
        },
        "6ffb22720f45419396f8d89b30116132": {
          "model_module": "@jupyter-widgets/base",
          "model_name": "LayoutModel",
          "model_module_version": "1.2.0",
          "state": {
            "_model_module": "@jupyter-widgets/base",
            "_model_module_version": "1.2.0",
            "_model_name": "LayoutModel",
            "_view_count": null,
            "_view_module": "@jupyter-widgets/base",
            "_view_module_version": "1.2.0",
            "_view_name": "LayoutView",
            "align_content": null,
            "align_items": null,
            "align_self": null,
            "border": null,
            "bottom": null,
            "display": null,
            "flex": null,
            "flex_flow": null,
            "grid_area": null,
            "grid_auto_columns": null,
            "grid_auto_flow": null,
            "grid_auto_rows": null,
            "grid_column": null,
            "grid_gap": null,
            "grid_row": null,
            "grid_template_areas": null,
            "grid_template_columns": null,
            "grid_template_rows": null,
            "height": null,
            "justify_content": null,
            "justify_items": null,
            "left": null,
            "margin": null,
            "max_height": null,
            "max_width": null,
            "min_height": null,
            "min_width": null,
            "object_fit": null,
            "object_position": null,
            "order": null,
            "overflow": null,
            "overflow_x": null,
            "overflow_y": null,
            "padding": null,
            "right": null,
            "top": null,
            "visibility": null,
            "width": null
          }
        },
        "1653530919464056a6eafc8470d9cd0e": {
          "model_module": "@jupyter-widgets/base",
          "model_name": "LayoutModel",
          "model_module_version": "1.2.0",
          "state": {
            "_model_module": "@jupyter-widgets/base",
            "_model_module_version": "1.2.0",
            "_model_name": "LayoutModel",
            "_view_count": null,
            "_view_module": "@jupyter-widgets/base",
            "_view_module_version": "1.2.0",
            "_view_name": "LayoutView",
            "align_content": null,
            "align_items": null,
            "align_self": null,
            "border": null,
            "bottom": null,
            "display": null,
            "flex": null,
            "flex_flow": null,
            "grid_area": null,
            "grid_auto_columns": null,
            "grid_auto_flow": null,
            "grid_auto_rows": null,
            "grid_column": null,
            "grid_gap": null,
            "grid_row": null,
            "grid_template_areas": null,
            "grid_template_columns": null,
            "grid_template_rows": null,
            "height": null,
            "justify_content": null,
            "justify_items": null,
            "left": null,
            "margin": null,
            "max_height": null,
            "max_width": null,
            "min_height": null,
            "min_width": null,
            "object_fit": null,
            "object_position": null,
            "order": null,
            "overflow": null,
            "overflow_x": null,
            "overflow_y": null,
            "padding": null,
            "right": null,
            "top": null,
            "visibility": null,
            "width": null
          }
        },
        "f115566aaeb7408a9a8c9ce83e651b2a": {
          "model_module": "@jupyter-widgets/controls",
          "model_name": "SliderStyleModel",
          "model_module_version": "1.5.0",
          "state": {
            "_model_module": "@jupyter-widgets/controls",
            "_model_module_version": "1.5.0",
            "_model_name": "SliderStyleModel",
            "_view_count": null,
            "_view_module": "@jupyter-widgets/base",
            "_view_module_version": "1.2.0",
            "_view_name": "StyleView",
            "description_width": "",
            "handle_color": null
          }
        },
        "1e2a4e9d41624966affe922115eb88dd": {
          "model_module": "@jupyter-widgets/base",
          "model_name": "LayoutModel",
          "model_module_version": "1.2.0",
          "state": {
            "_model_module": "@jupyter-widgets/base",
            "_model_module_version": "1.2.0",
            "_model_name": "LayoutModel",
            "_view_count": null,
            "_view_module": "@jupyter-widgets/base",
            "_view_module_version": "1.2.0",
            "_view_name": "LayoutView",
            "align_content": null,
            "align_items": null,
            "align_self": null,
            "border": null,
            "bottom": null,
            "display": null,
            "flex": null,
            "flex_flow": null,
            "grid_area": null,
            "grid_auto_columns": null,
            "grid_auto_flow": null,
            "grid_auto_rows": null,
            "grid_column": null,
            "grid_gap": null,
            "grid_row": null,
            "grid_template_areas": null,
            "grid_template_columns": null,
            "grid_template_rows": null,
            "height": null,
            "justify_content": null,
            "justify_items": null,
            "left": null,
            "margin": null,
            "max_height": null,
            "max_width": null,
            "min_height": null,
            "min_width": null,
            "object_fit": null,
            "object_position": null,
            "order": null,
            "overflow": null,
            "overflow_x": null,
            "overflow_y": null,
            "padding": null,
            "right": null,
            "top": null,
            "visibility": null,
            "width": null
          }
        },
        "a5497c0eb4ac4830baa0e70da5dba260": {
          "model_module": "@jupyter-widgets/controls",
          "model_name": "VBoxModel",
          "model_module_version": "1.5.0",
          "state": {
            "_dom_classes": [
              "widget-interact"
            ],
            "_model_module": "@jupyter-widgets/controls",
            "_model_module_version": "1.5.0",
            "_model_name": "VBoxModel",
            "_view_count": null,
            "_view_module": "@jupyter-widgets/controls",
            "_view_module_version": "1.5.0",
            "_view_name": "VBoxView",
            "box_style": "",
            "children": [
              "IPY_MODEL_00c072763b564e66967386ab04de4272",
              "IPY_MODEL_add8fc547df64549b0978883fd931540"
            ],
            "layout": "IPY_MODEL_c5057326294948079edd48fa829a6bc4"
          }
        },
        "00c072763b564e66967386ab04de4272": {
          "model_module": "@jupyter-widgets/controls",
          "model_name": "FloatSliderModel",
          "model_module_version": "1.5.0",
          "state": {
            "_dom_classes": [],
            "_model_module": "@jupyter-widgets/controls",
            "_model_module_version": "1.5.0",
            "_model_name": "FloatSliderModel",
            "_view_count": null,
            "_view_module": "@jupyter-widgets/controls",
            "_view_module_version": "1.5.0",
            "_view_name": "FloatSliderView",
            "continuous_update": true,
            "description": "d",
            "description_tooltip": null,
            "disabled": false,
            "layout": "IPY_MODEL_f1f1e6b0e62d4250a94e54f3da9d93b4",
            "max": 0.5,
            "min": 0.1,
            "orientation": "horizontal",
            "readout": true,
            "readout_format": ".2f",
            "step": 0.01,
            "style": "IPY_MODEL_1be88e8a44374155891d35b98b45becc",
            "value": 0.30000000000000004
          }
        },
        "add8fc547df64549b0978883fd931540": {
          "model_module": "@jupyter-widgets/output",
          "model_name": "OutputModel",
          "model_module_version": "1.0.0",
          "state": {
            "_dom_classes": [],
            "_model_module": "@jupyter-widgets/output",
            "_model_module_version": "1.0.0",
            "_model_name": "OutputModel",
            "_view_count": null,
            "_view_module": "@jupyter-widgets/output",
            "_view_module_version": "1.0.0",
            "_view_name": "OutputView",
            "layout": "IPY_MODEL_4bbdbb9239a84c3d867b71b94a9ead69",
            "msg_id": "",
            "outputs": [
              {
                "output_type": "display_data",
                "data": {
                  "text/plain": "<Figure size 720x360 with 1 Axes>",
                  "image/png": "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\n"
                },
                "metadata": {}
              }
            ]
          }
        },
        "c5057326294948079edd48fa829a6bc4": {
          "model_module": "@jupyter-widgets/base",
          "model_name": "LayoutModel",
          "model_module_version": "1.2.0",
          "state": {
            "_model_module": "@jupyter-widgets/base",
            "_model_module_version": "1.2.0",
            "_model_name": "LayoutModel",
            "_view_count": null,
            "_view_module": "@jupyter-widgets/base",
            "_view_module_version": "1.2.0",
            "_view_name": "LayoutView",
            "align_content": null,
            "align_items": null,
            "align_self": null,
            "border": null,
            "bottom": null,
            "display": null,
            "flex": null,
            "flex_flow": null,
            "grid_area": null,
            "grid_auto_columns": null,
            "grid_auto_flow": null,
            "grid_auto_rows": null,
            "grid_column": null,
            "grid_gap": null,
            "grid_row": null,
            "grid_template_areas": null,
            "grid_template_columns": null,
            "grid_template_rows": null,
            "height": null,
            "justify_content": null,
            "justify_items": null,
            "left": null,
            "margin": null,
            "max_height": null,
            "max_width": null,
            "min_height": null,
            "min_width": null,
            "object_fit": null,
            "object_position": null,
            "order": null,
            "overflow": null,
            "overflow_x": null,
            "overflow_y": null,
            "padding": null,
            "right": null,
            "top": null,
            "visibility": null,
            "width": null
          }
        },
        "f1f1e6b0e62d4250a94e54f3da9d93b4": {
          "model_module": "@jupyter-widgets/base",
          "model_name": "LayoutModel",
          "model_module_version": "1.2.0",
          "state": {
            "_model_module": "@jupyter-widgets/base",
            "_model_module_version": "1.2.0",
            "_model_name": "LayoutModel",
            "_view_count": null,
            "_view_module": "@jupyter-widgets/base",
            "_view_module_version": "1.2.0",
            "_view_name": "LayoutView",
            "align_content": null,
            "align_items": null,
            "align_self": null,
            "border": null,
            "bottom": null,
            "display": null,
            "flex": null,
            "flex_flow": null,
            "grid_area": null,
            "grid_auto_columns": null,
            "grid_auto_flow": null,
            "grid_auto_rows": null,
            "grid_column": null,
            "grid_gap": null,
            "grid_row": null,
            "grid_template_areas": null,
            "grid_template_columns": null,
            "grid_template_rows": null,
            "height": null,
            "justify_content": null,
            "justify_items": null,
            "left": null,
            "margin": null,
            "max_height": null,
            "max_width": null,
            "min_height": null,
            "min_width": null,
            "object_fit": null,
            "object_position": null,
            "order": null,
            "overflow": null,
            "overflow_x": null,
            "overflow_y": null,
            "padding": null,
            "right": null,
            "top": null,
            "visibility": null,
            "width": null
          }
        },
        "1be88e8a44374155891d35b98b45becc": {
          "model_module": "@jupyter-widgets/controls",
          "model_name": "SliderStyleModel",
          "model_module_version": "1.5.0",
          "state": {
            "_model_module": "@jupyter-widgets/controls",
            "_model_module_version": "1.5.0",
            "_model_name": "SliderStyleModel",
            "_view_count": null,
            "_view_module": "@jupyter-widgets/base",
            "_view_module_version": "1.2.0",
            "_view_name": "StyleView",
            "description_width": "",
            "handle_color": null
          }
        },
        "4bbdbb9239a84c3d867b71b94a9ead69": {
          "model_module": "@jupyter-widgets/base",
          "model_name": "LayoutModel",
          "model_module_version": "1.2.0",
          "state": {
            "_model_module": "@jupyter-widgets/base",
            "_model_module_version": "1.2.0",
            "_model_name": "LayoutModel",
            "_view_count": null,
            "_view_module": "@jupyter-widgets/base",
            "_view_module_version": "1.2.0",
            "_view_name": "LayoutView",
            "align_content": null,
            "align_items": null,
            "align_self": null,
            "border": null,
            "bottom": null,
            "display": null,
            "flex": null,
            "flex_flow": null,
            "grid_area": null,
            "grid_auto_columns": null,
            "grid_auto_flow": null,
            "grid_auto_rows": null,
            "grid_column": null,
            "grid_gap": null,
            "grid_row": null,
            "grid_template_areas": null,
            "grid_template_columns": null,
            "grid_template_rows": null,
            "height": null,
            "justify_content": null,
            "justify_items": null,
            "left": null,
            "margin": null,
            "max_height": null,
            "max_width": null,
            "min_height": null,
            "min_width": null,
            "object_fit": null,
            "object_position": null,
            "order": null,
            "overflow": null,
            "overflow_x": null,
            "overflow_y": null,
            "padding": null,
            "right": null,
            "top": null,
            "visibility": null,
            "width": null
          }
        },
        "e2212ebcaf0c479e90d618a6eeb36b2f": {
          "model_module": "@jupyter-widgets/controls",
          "model_name": "VBoxModel",
          "model_module_version": "1.5.0",
          "state": {
            "_dom_classes": [
              "widget-interact"
            ],
            "_model_module": "@jupyter-widgets/controls",
            "_model_module_version": "1.5.0",
            "_model_name": "VBoxModel",
            "_view_count": null,
            "_view_module": "@jupyter-widgets/controls",
            "_view_module_version": "1.5.0",
            "_view_name": "VBoxView",
            "box_style": "",
            "children": [
              "IPY_MODEL_4549508155ed419ca222ff1c8d4511c2",
              "IPY_MODEL_df0f9a12d7ca4126be15c9d45c684d75",
              "IPY_MODEL_c57a0cd545574f999a3fbb1485315615"
            ],
            "layout": "IPY_MODEL_ee813086c1c54e5e9f2155f7f3b3062d"
          }
        },
        "4549508155ed419ca222ff1c8d4511c2": {
          "model_module": "@jupyter-widgets/controls",
          "model_name": "FloatSliderModel",
          "model_module_version": "1.5.0",
          "state": {
            "_dom_classes": [],
            "_model_module": "@jupyter-widgets/controls",
            "_model_module_version": "1.5.0",
            "_model_name": "FloatSliderModel",
            "_view_count": null,
            "_view_module": "@jupyter-widgets/controls",
            "_view_module_version": "1.5.0",
            "_view_name": "FloatSliderView",
            "continuous_update": true,
            "description": "d",
            "description_tooltip": null,
            "disabled": false,
            "layout": "IPY_MODEL_9b016c1e7da84d3785be1b43c1c1c973",
            "max": 0.5,
            "min": 0.1,
            "orientation": "horizontal",
            "readout": true,
            "readout_format": ".2f",
            "step": 0.01,
            "style": "IPY_MODEL_ba78008cc55a43f9ac1aa04c483b2631",
            "value": 0.5
          }
        },
        "df0f9a12d7ca4126be15c9d45c684d75": {
          "model_module": "@jupyter-widgets/controls",
          "model_name": "FloatSliderModel",
          "model_module_version": "1.5.0",
          "state": {
            "_dom_classes": [],
            "_model_module": "@jupyter-widgets/controls",
            "_model_module_version": "1.5.0",
            "_model_name": "FloatSliderModel",
            "_view_count": null,
            "_view_module": "@jupyter-widgets/controls",
            "_view_module_version": "1.5.0",
            "_view_name": "FloatSliderView",
            "continuous_update": true,
            "description": "b",
            "description_tooltip": null,
            "disabled": false,
            "layout": "IPY_MODEL_856e2e7a54f24b349098bd320b7fdd8a",
            "max": 1,
            "min": 0.1,
            "orientation": "horizontal",
            "readout": true,
            "readout_format": ".2f",
            "step": 0.02,
            "style": "IPY_MODEL_a650b30ffaf64b998cbd196a42c3a0fa",
            "value": 0.54
          }
        },
        "c57a0cd545574f999a3fbb1485315615": {
          "model_module": "@jupyter-widgets/output",
          "model_name": "OutputModel",
          "model_module_version": "1.0.0",
          "state": {
            "_dom_classes": [],
            "_model_module": "@jupyter-widgets/output",
            "_model_module_version": "1.0.0",
            "_model_name": "OutputModel",
            "_view_count": null,
            "_view_module": "@jupyter-widgets/output",
            "_view_module_version": "1.0.0",
            "_view_name": "OutputView",
            "layout": "IPY_MODEL_737924fd0ca14fc2ab8bcfe7a5fd58b9",
            "msg_id": "",
            "outputs": [
              {
                "output_type": "display_data",
                "data": {
                  "text/plain": "<Figure size 720x360 with 1 Axes>",
                  "image/png": "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\n"
                },
                "metadata": {}
              }
            ]
          }
        },
        "ee813086c1c54e5e9f2155f7f3b3062d": {
          "model_module": "@jupyter-widgets/base",
          "model_name": "LayoutModel",
          "model_module_version": "1.2.0",
          "state": {
            "_model_module": "@jupyter-widgets/base",
            "_model_module_version": "1.2.0",
            "_model_name": "LayoutModel",
            "_view_count": null,
            "_view_module": "@jupyter-widgets/base",
            "_view_module_version": "1.2.0",
            "_view_name": "LayoutView",
            "align_content": null,
            "align_items": null,
            "align_self": null,
            "border": null,
            "bottom": null,
            "display": null,
            "flex": null,
            "flex_flow": null,
            "grid_area": null,
            "grid_auto_columns": null,
            "grid_auto_flow": null,
            "grid_auto_rows": null,
            "grid_column": null,
            "grid_gap": null,
            "grid_row": null,
            "grid_template_areas": null,
            "grid_template_columns": null,
            "grid_template_rows": null,
            "height": null,
            "justify_content": null,
            "justify_items": null,
            "left": null,
            "margin": null,
            "max_height": null,
            "max_width": null,
            "min_height": null,
            "min_width": null,
            "object_fit": null,
            "object_position": null,
            "order": null,
            "overflow": null,
            "overflow_x": null,
            "overflow_y": null,
            "padding": null,
            "right": null,
            "top": null,
            "visibility": null,
            "width": null
          }
        },
        "9b016c1e7da84d3785be1b43c1c1c973": {
          "model_module": "@jupyter-widgets/base",
          "model_name": "LayoutModel",
          "model_module_version": "1.2.0",
          "state": {
            "_model_module": "@jupyter-widgets/base",
            "_model_module_version": "1.2.0",
            "_model_name": "LayoutModel",
            "_view_count": null,
            "_view_module": "@jupyter-widgets/base",
            "_view_module_version": "1.2.0",
            "_view_name": "LayoutView",
            "align_content": null,
            "align_items": null,
            "align_self": null,
            "border": null,
            "bottom": null,
            "display": null,
            "flex": null,
            "flex_flow": null,
            "grid_area": null,
            "grid_auto_columns": null,
            "grid_auto_flow": null,
            "grid_auto_rows": null,
            "grid_column": null,
            "grid_gap": null,
            "grid_row": null,
            "grid_template_areas": null,
            "grid_template_columns": null,
            "grid_template_rows": null,
            "height": null,
            "justify_content": null,
            "justify_items": null,
            "left": null,
            "margin": null,
            "max_height": null,
            "max_width": null,
            "min_height": null,
            "min_width": null,
            "object_fit": null,
            "object_position": null,
            "order": null,
            "overflow": null,
            "overflow_x": null,
            "overflow_y": null,
            "padding": null,
            "right": null,
            "top": null,
            "visibility": null,
            "width": null
          }
        },
        "ba78008cc55a43f9ac1aa04c483b2631": {
          "model_module": "@jupyter-widgets/controls",
          "model_name": "SliderStyleModel",
          "model_module_version": "1.5.0",
          "state": {
            "_model_module": "@jupyter-widgets/controls",
            "_model_module_version": "1.5.0",
            "_model_name": "SliderStyleModel",
            "_view_count": null,
            "_view_module": "@jupyter-widgets/base",
            "_view_module_version": "1.2.0",
            "_view_name": "StyleView",
            "description_width": "",
            "handle_color": null
          }
        },
        "856e2e7a54f24b349098bd320b7fdd8a": {
          "model_module": "@jupyter-widgets/base",
          "model_name": "LayoutModel",
          "model_module_version": "1.2.0",
          "state": {
            "_model_module": "@jupyter-widgets/base",
            "_model_module_version": "1.2.0",
            "_model_name": "LayoutModel",
            "_view_count": null,
            "_view_module": "@jupyter-widgets/base",
            "_view_module_version": "1.2.0",
            "_view_name": "LayoutView",
            "align_content": null,
            "align_items": null,
            "align_self": null,
            "border": null,
            "bottom": null,
            "display": null,
            "flex": null,
            "flex_flow": null,
            "grid_area": null,
            "grid_auto_columns": null,
            "grid_auto_flow": null,
            "grid_auto_rows": null,
            "grid_column": null,
            "grid_gap": null,
            "grid_row": null,
            "grid_template_areas": null,
            "grid_template_columns": null,
            "grid_template_rows": null,
            "height": null,
            "justify_content": null,
            "justify_items": null,
            "left": null,
            "margin": null,
            "max_height": null,
            "max_width": null,
            "min_height": null,
            "min_width": null,
            "object_fit": null,
            "object_position": null,
            "order": null,
            "overflow": null,
            "overflow_x": null,
            "overflow_y": null,
            "padding": null,
            "right": null,
            "top": null,
            "visibility": null,
            "width": null
          }
        },
        "a650b30ffaf64b998cbd196a42c3a0fa": {
          "model_module": "@jupyter-widgets/controls",
          "model_name": "SliderStyleModel",
          "model_module_version": "1.5.0",
          "state": {
            "_model_module": "@jupyter-widgets/controls",
            "_model_module_version": "1.5.0",
            "_model_name": "SliderStyleModel",
            "_view_count": null,
            "_view_module": "@jupyter-widgets/base",
            "_view_module_version": "1.2.0",
            "_view_name": "StyleView",
            "description_width": "",
            "handle_color": null
          }
        },
        "737924fd0ca14fc2ab8bcfe7a5fd58b9": {
          "model_module": "@jupyter-widgets/base",
          "model_name": "LayoutModel",
          "model_module_version": "1.2.0",
          "state": {
            "_model_module": "@jupyter-widgets/base",
            "_model_module_version": "1.2.0",
            "_model_name": "LayoutModel",
            "_view_count": null,
            "_view_module": "@jupyter-widgets/base",
            "_view_module_version": "1.2.0",
            "_view_name": "LayoutView",
            "align_content": null,
            "align_items": null,
            "align_self": null,
            "border": null,
            "bottom": null,
            "display": null,
            "flex": null,
            "flex_flow": null,
            "grid_area": null,
            "grid_auto_columns": null,
            "grid_auto_flow": null,
            "grid_auto_rows": null,
            "grid_column": null,
            "grid_gap": null,
            "grid_row": null,
            "grid_template_areas": null,
            "grid_template_columns": null,
            "grid_template_rows": null,
            "height": null,
            "justify_content": null,
            "justify_items": null,
            "left": null,
            "margin": null,
            "max_height": null,
            "max_width": null,
            "min_height": null,
            "min_width": null,
            "object_fit": null,
            "object_position": null,
            "order": null,
            "overflow": null,
            "overflow_x": null,
            "overflow_y": null,
            "padding": null,
            "right": null,
            "top": null,
            "visibility": null,
            "width": null
          }
        }
      }
    }
  },
  "nbformat": 4,
  "nbformat_minor": 0
}