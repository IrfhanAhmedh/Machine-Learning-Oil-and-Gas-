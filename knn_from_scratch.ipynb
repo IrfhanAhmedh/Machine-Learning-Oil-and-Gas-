{
  "nbformat": 4,
  "nbformat_minor": 0,
  "metadata": {
    "colab": {
      "name": "knn from scratch.ipynb",
      "provenance": [],
      "collapsed_sections": [],
      "authorship_tag": "ABX9TyO9qN7VUJiaqCchkTSigpRZ",
      "include_colab_link": true
    },
    "kernelspec": {
      "name": "python3",
      "display_name": "Python 3"
    },
    "language_info": {
      "name": "python"
    }
  },
  "cells": [
    {
      "cell_type": "markdown",
      "metadata": {
        "id": "view-in-github",
        "colab_type": "text"
      },
      "source": [
        "<a href=\"https://colab.research.google.com/github/IrfhanAhmedh/Machine-Learning-Oil-and-Gas-/blob/main/knn_from_scratch.ipynb\" target=\"_parent\"><img src=\"https://colab.research.google.com/assets/colab-badge.svg\" alt=\"Open In Colab\"/></a>"
      ]
    },
    {
      "cell_type": "code",
      "metadata": {
        "id": "qNjeW3TpyXmE"
      },
      "source": [
        "import numpy as np\n",
        "import matplotlib.pyplot as plt\n",
        "import pandas as pd"
      ],
      "execution_count": null,
      "outputs": []
    },
    {
      "cell_type": "code",
      "metadata": {
        "colab": {
          "base_uri": "https://localhost:8080/",
          "height": 265
        },
        "id": "019_AUXEyjJx",
        "outputId": "c458a12a-cbe7-4967-b054-7a7676f63e21"
      },
      "source": [
        "df=pd.read_excel('11.xlsx')\n",
        "x=df['x'].values\n",
        "y=df['y'].values\n",
        "x=x.reshape(-1,1)\n",
        "y=y.reshape(-1,1)\n",
        "plt.scatter(x,y,c='r')\n",
        "plt.show()"
      ],
      "execution_count": null,
      "outputs": [
        {
          "output_type": "display_data",
          "data": {
            "image/png": "[encoded data removed]",
            "text/plain": [
              "<Figure size 432x288 with 1 Axes>"
            ]
          },
          "metadata": {
            "needs_background": "light"
          }
        }
      ]
    },
    {
      "cell_type": "markdown",
      "metadata": {
        "id": "2wLMNeCrEGEK"
      },
      "source": [
        "**Using sklearn**"
      ]
    },
    {
      "cell_type": "code",
      "metadata": {
        "colab": {
          "base_uri": "https://localhost:8080/"
        },
        "id": "iTG8HHnx0PYy",
        "outputId": "a793f819-7104-492b-c396-a123c49b4244"
      },
      "source": [
        "from sklearn.neighbors import KNeighborsRegressor\n",
        "knn=KNeighborsRegressor(n_neighbors=4)\n",
        "knn.fit(x,y)\n",
        "knn.predict([[2]])"
      ],
      "execution_count": null,
      "outputs": [
        {
          "output_type": "execute_result",
          "data": {
            "text/plain": [
              "array([[2.65]])"
            ]
          },
          "metadata": {},
          "execution_count": 155
        }
      ]
    },
    {
      "cell_type": "markdown",
      "metadata": {
        "id": "3bbbzlfYEMxZ"
      },
      "source": [
        "**From scratch**"
      ]
    },
    {
      "cell_type": "code",
      "metadata": {
        "id": "3la6e34AFnMQ"
      },
      "source": [
        "df=pd.read_excel('11.xlsx')"
      ],
      "execution_count": null,
      "outputs": []
    },
    {
      "cell_type": "code",
      "metadata": {
        "id": "JDFrmuha3DJB"
      },
      "source": [
        "def euclidean(z):\n",
        " euclidean=np.arange(len(x))*0\n",
        " euclidean=euclidean.astype(float)\n",
        " for i in range(len(x)):\n",
        "  euclidean[i]=np.sqrt((x[i]-z)**2)\n",
        " return euclidean"
      ],
      "execution_count": null,
      "outputs": []
    },
    {
      "cell_type": "code",
      "metadata": {
        "id": "owmKI56F5bV_"
      },
      "source": [
        "def KnnRegression(df,pred,number_of_neighours):\n",
        " df['dist']=pd.DataFrame(euclidean(pred))\n",
        " df=df.sort_values(['dist'],ascending=True).head(number_of_neighours)\n",
        " y_pred=df[['y']].mean()\n",
        " return y_pred"
      ],
      "execution_count": null,
      "outputs": []
    },
    {
      "cell_type": "code",
      "metadata": {
        "colab": {
          "base_uri": "https://localhost:8080/"
        },
        "id": "68-MVDM87Rma",
        "outputId": "1543de92-e13b-4ba9-fdf9-1715bfb9a249"
      },
      "source": [
        "KnnRegression(df,2,4)"
      ],
      "execution_count": null,
      "outputs": [
        {
          "output_type": "execute_result",
          "data": {
            "text/plain": [
              "y    2.65\n",
              "dtype: float64"
            ]
          },
          "metadata": {},
          "execution_count": 187
        }
      ]
    }
  ]
}