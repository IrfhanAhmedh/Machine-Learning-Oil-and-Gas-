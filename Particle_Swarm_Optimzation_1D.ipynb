{
  "cells": [
    {
      "cell_type": "markdown",
      "metadata": {
        "id": "view-in-github",
        "colab_type": "text"
      },
      "source": [
        "<a href=\"https://colab.research.google.com/github/IrfhanAhmedh/Machine-Learning-Oil-and-Gas-/blob/main/PSO_Example_1.ipynb\" target=\"_parent\"><img src=\"https://colab.research.google.com/assets/colab-badge.svg\" alt=\"Open In Colab\"/></a>"
      ]
    },
    {
      "cell_type": "code",
      "source": [
        "import numpy as np\n",
        "import matplotlib.pyplot as plt\n"
      ],
      "metadata": {
        "id": "gToqLO0vK3T3"
      },
      "execution_count": 1,
      "outputs": []
    },
    {
      "cell_type": "code",
      "source": [
        "def f(x):\n",
        "  return 1+(2*x)-(x*x)\n",
        "r1=np.array([0.4657,0.8956,0.3877,0.4902,0.5039])\n",
        "r2=np.array([0.5319,0.8185,0.8331,0.7677,0.1708])\n",
        "w=0.70 \n",
        "c1=0.20\n",
        "c2=0.60\n",
        "n=5\n",
        "t=4\n",
        "posi=np.array([])\n",
        "velo=np.array([])\n",
        "pbest=np.array([])\n",
        "gbest_obj=np.array([])\n",
        "gbest=np.array([])\n",
        "for i in range(0,5):\n",
        "  pos=10*(r1[i]-0.5)\n",
        "  posi=np.append(posi,pos)\n",
        "  vel=r2[i]-0.5\n",
        "  velo=np.append(velo,vel)\n",
        "  pbest=posi\n",
        "  gbest_val=f(pbest[i])\n",
        "  gbest_obj=np.append(gbest_obj,gbest_val)\n",
        "gbest=pbest[np.argmax(gbest_obj)]"
      ],
      "metadata": {
        "id": "Oj04N9k1DB_P"
      },
      "execution_count": 2,
      "outputs": []
    },
    {
      "cell_type": "code",
      "source": [
        "posi,velo,pbest,gbest"
      ],
      "metadata": {
        "colab": {
          "base_uri": "https://localhost:8080/"
        },
        "id": "FQ2XYqLOSFKX",
        "outputId": "9b2df2e3-aa03-419a-f50c-86acf83d6dc6"
      },
      "execution_count": 3,
      "outputs": [
        {
          "output_type": "execute_result",
          "data": {
            "text/plain": [
              "(array([-0.343,  3.956, -1.123, -0.098,  0.039]),\n",
              " array([ 0.0319,  0.3185,  0.3331,  0.2677, -0.3292]),\n",
              " array([-0.343,  3.956, -1.123, -0.098,  0.039]),\n",
              " 0.039000000000000146)"
            ]
          },
          "metadata": {},
          "execution_count": 3
        }
      ]
    },
    {
      "cell_type": "code",
      "source": [
        "for t in range(0,100):\n",
        "  for i in range(0,5):\n",
        "   vel=w*velo[i]+c1*r1[i]*(pbest[i]-posi[i])+c2*r2[i]*(gbest-posi[i])\n",
        "   pos=posi[i]+vel\n",
        "   posi[i]=pos\n",
        "   velo[i]=vel\n",
        "   if(f(pbest[i])<f(posi[i])):\n",
        "    pbest[i]=posi[i]\n",
        "   if(f(pbest[i])>f(gbest)):\n",
        "    gbest=pbest[i]"
      ],
      "metadata": {
        "id": "EvrR5Ox0IKzB"
      },
      "execution_count": 4,
      "outputs": []
    },
    {
      "cell_type": "code",
      "source": [
        "f(gbest)"
      ],
      "metadata": {
        "colab": {
          "base_uri": "https://localhost:8080/"
        },
        "id": "5CcKbVxxSPXH",
        "outputId": "42a990b0-eb02-4e7e-fe82-b86beb504eb4"
      },
      "execution_count": 5,
      "outputs": [
        {
          "output_type": "execute_result",
          "data": {
            "text/plain": [
              "2.0"
            ]
          },
          "metadata": {},
          "execution_count": 5
        }
      ]
    },
    {
      "cell_type": "code",
      "source": [
        "x=np.array([-3,-2,-1,0,1,2,3,4,5])\n",
        "pos=np.array([-0.343,  3.956, -1.123, -0.098,  0.039])\n",
        "plt.figure(figsize=[8,4])\n",
        "plt.plot(x,f(x))\n",
        "plt.scatter(pos,f(pos),marker='*',color='black')\n",
        "plt.scatter(gbest,f(gbest),marker='*',color='Red')\n",
        "\n",
        "plt.show()\n"
      ],
      "metadata": {
        "colab": {
          "base_uri": "https://localhost:8080/",
          "height": 265
        },
        "id": "cAwOdAy8YMeA",
        "outputId": "798e2360-5d47-4776-97c4-8c06ec61eb3b"
      },
      "execution_count": 6,
      "outputs": [
        {
          "output_type": "display_data",
          "data": {
            "image/png": "[encoded data removed]",
            "text/plain": [
              "<Figure size 576x288 with 1 Axes>"
            ]
          },
          "metadata": {
            "needs_background": "light"
          }
        }
      ]
    }
  ],
  "metadata": {
    "colab": {
      "collapsed_sections": [],
      "name": "PSO Example_1",
      "provenance": [],
      "include_colab_link": true
    },
    "kernelspec": {
      "display_name": "Python 3",
      "name": "python3"
    }
  },
  "nbformat": 4,
  "nbformat_minor": 0
}
