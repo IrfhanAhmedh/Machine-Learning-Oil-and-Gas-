{
  "cells": [
    {
      "cell_type": "markdown",
      "metadata": {
        "id": "view-in-github",
        "colab_type": "text"
      },
      "source": [
        "<a href=\"https://colab.research.google.com/github/IrfhanAhmedh/Machine-Learning-Oil-and-Gas-/blob/main/Harmonic%20Decline%20curve%20analysis.ipynb\" target=\"_parent\"><img src=\"https://colab.research.google.com/assets/colab-badge.svg\" alt=\"Open In Colab\"/></a>"
      ]
    },
    {
      "cell_type": "code",
      "source": [
        "import numpy as np\n",
        "import pandas as pd\n",
        "import matplotlib.pyplot as plt"
      ],
      "metadata": {
        "id": "u1_9OGjzaFZA"
      },
      "execution_count": 36,
      "outputs": []
    },
    {
      "cell_type": "code",
      "source": [
        "df=pd.read_excel('Datase.xlsx')\n",
        "dfa=np.array(df)\n",
        "x=dfa[:,0]\n",
        "y=dfa[:,1]\n"
      ],
      "metadata": {
        "id": "KOZnJ_LveuM5"
      },
      "execution_count": 37,
      "outputs": []
    },
    {
      "cell_type": "code",
      "source": [
        "def harmonic(d):\n",
        " qi=10\n",
        " c=1+(d*x)\n",
        " q_=qi/c\n",
        " plt.figure(figsize=[10,5])\n",
        " plt.grid(color='white', linestyle='-.', linewidth=0.7)\n",
        " plt.scatter(x,y,color='Red')\n",
        " plt.plot(x,q_)\n",
        " plt.legend(['x vs y'])\n",
        " plt.style.use('seaborn-whitegrid')\n",
        " plt.show()"
      ],
      "metadata": {
        "id": "WuZPRnTPe_ZG"
      },
      "execution_count": 38,
      "outputs": []
    },
    {
      "cell_type": "code",
      "source": [
        "from ipywidgets import interact,interactive\n",
        "interactive(harm , d=(0.1,0.5,0.01))"
      ],
      "metadata": {
        "id": "zkUDUMM2fnmH",
        "outputId": "6bf44f46-e59e-4bc1-d198-8eccb2215790",
        "colab": {
          "base_uri": "https://localhost:8080/",
          "height": 352,
          "referenced_widgets": [
            "4aefe86c403f491890d4500cf6d61629",
            "a01879f58bc341dc97587e6522b3f8f2",
            "da2ec7d834134dd0a418312d2300707e",
            "226097d4697445888b3f0cc9f272d2d7",
            "70e0702d940448d0b84bde364c7b13f4",
            "af7d754e3b3848d1b52c07ab45af4515",
            "a15225505b064043958e72e7a8dbabcb"
          ]
        }
      },
      "execution_count": 39,
      "outputs": [
        {
          "output_type": "display_data",
          "data": {
            "text/plain": [
              "interactive(children=(FloatSlider(value=0.30000000000000004, description='d', max=0.5, min=0.1, step=0.01), Ou…"
            ],
            "application/vnd.jupyter.widget-view+json": {
              "version_major": 2,
              "version_minor": 0,
              "model_id": "4aefe86c403f491890d4500cf6d61629"
            }
          },
          "metadata": {}
        }
      ]
    }
  ],
  "metadata": {
    "colab": {
      "collapsed_sections": [],
      "name": "Welcome To Colaboratory",
      "provenance": [],
      "include_colab_link": true
    },
    "kernelspec": {
      "display_name": "Python 3",
      "name": "python3"
    },
    "widgets": {
      "application/vnd.jupyter.widget-state+json": {
        "4aefe86c403f491890d4500cf6d61629": {
          "model_module": "@jupyter-widgets/controls",
          "model_name": "VBoxModel",
          "model_module_version": "1.5.0",
          "state": {
            "_dom_classes": [
              "widget-interact"
            ],
            "_model_module": "@jupyter-widgets/controls",
            "_model_module_version": "1.5.0",
            "_model_name": "VBoxModel",
            "_view_count": null,
            "_view_module": "@jupyter-widgets/controls",
            "_view_module_version": "1.5.0",
            "_view_name": "VBoxView",
            "box_style": "",
            "children": [
              "IPY_MODEL_a01879f58bc341dc97587e6522b3f8f2",
              "IPY_MODEL_da2ec7d834134dd0a418312d2300707e"
            ],
            "layout": "IPY_MODEL_226097d4697445888b3f0cc9f272d2d7"
          }
        },
        "a01879f58bc341dc97587e6522b3f8f2": {
          "model_module": "@jupyter-widgets/controls",
          "model_name": "FloatSliderModel",
          "model_module_version": "1.5.0",
          "state": {
            "_dom_classes": [],
            "_model_module": "@jupyter-widgets/controls",
            "_model_module_version": "1.5.0",
            "_model_name": "FloatSliderModel",
            "_view_count": null,
            "_view_module": "@jupyter-widgets/controls",
            "_view_module_version": "1.5.0",
            "_view_name": "FloatSliderView",
            "continuous_update": true,
            "description": "d",
            "description_tooltip": null,
            "disabled": false,
            "layout": "IPY_MODEL_70e0702d940448d0b84bde364c7b13f4",
            "max": 0.5,
            "min": 0.1,
            "orientation": "horizontal",
            "readout": true,
            "readout_format": ".2f",
            "step": 0.01,
            "style": "IPY_MODEL_af7d754e3b3848d1b52c07ab45af4515",
            "value": 0.38
          }
        },
        "da2ec7d834134dd0a418312d2300707e": {
          "model_module": "@jupyter-widgets/output",
          "model_name": "OutputModel",
          "model_module_version": "1.0.0",
          "state": {
            "_dom_classes": [],
            "_model_module": "@jupyter-widgets/output",
            "_model_module_version": "1.0.0",
            "_model_name": "OutputModel",
            "_view_count": null,
            "_view_module": "@jupyter-widgets/output",
            "_view_module_version": "1.0.0",
            "_view_name": "OutputView",
            "layout": "IPY_MODEL_a15225505b064043958e72e7a8dbabcb",
            "msg_id": "",
            "outputs": [
              {
                "output_type": "display_data",
                "data": {
                  "text/plain": "<Figure size 720x360 with 1 Axes>",
                  "image/png": "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\n"
                },
                "metadata": {}
              }
            ]
          }
        },
        "226097d4697445888b3f0cc9f272d2d7": {
          "model_module": "@jupyter-widgets/base",
          "model_name": "LayoutModel",
          "model_module_version": "1.2.0",
          "state": {
            "_model_module": "@jupyter-widgets/base",
            "_model_module_version": "1.2.0",
            "_model_name": "LayoutModel",
            "_view_count": null,
            "_view_module": "@jupyter-widgets/base",
            "_view_module_version": "1.2.0",
            "_view_name": "LayoutView",
            "align_content": null,
            "align_items": null,
            "align_self": null,
            "border": null,
            "bottom": null,
            "display": null,
            "flex": null,
            "flex_flow": null,
            "grid_area": null,
            "grid_auto_columns": null,
            "grid_auto_flow": null,
            "grid_auto_rows": null,
            "grid_column": null,
            "grid_gap": null,
            "grid_row": null,
            "grid_template_areas": null,
            "grid_template_columns": null,
            "grid_template_rows": null,
            "height": null,
            "justify_content": null,
            "justify_items": null,
            "left": null,
            "margin": null,
            "max_height": null,
            "max_width": null,
            "min_height": null,
            "min_width": null,
            "object_fit": null,
            "object_position": null,
            "order": null,
            "overflow": null,
            "overflow_x": null,
            "overflow_y": null,
            "padding": null,
            "right": null,
            "top": null,
            "visibility": null,
            "width": null
          }
        },
        "70e0702d940448d0b84bde364c7b13f4": {
          "model_module": "@jupyter-widgets/base",
          "model_name": "LayoutModel",
          "model_module_version": "1.2.0",
          "state": {
            "_model_module": "@jupyter-widgets/base",
            "_model_module_version": "1.2.0",
            "_model_name": "LayoutModel",
            "_view_count": null,
            "_view_module": "@jupyter-widgets/base",
            "_view_module_version": "1.2.0",
            "_view_name": "LayoutView",
            "align_content": null,
            "align_items": null,
            "align_self": null,
            "border": null,
            "bottom": null,
            "display": null,
            "flex": null,
            "flex_flow": null,
            "grid_area": null,
            "grid_auto_columns": null,
            "grid_auto_flow": null,
            "grid_auto_rows": null,
            "grid_column": null,
            "grid_gap": null,
            "grid_row": null,
            "grid_template_areas": null,
            "grid_template_columns": null,
            "grid_template_rows": null,
            "height": null,
            "justify_content": null,
            "justify_items": null,
            "left": null,
            "margin": null,
            "max_height": null,
            "max_width": null,
            "min_height": null,
            "min_width": null,
            "object_fit": null,
            "object_position": null,
            "order": null,
            "overflow": null,
            "overflow_x": null,
            "overflow_y": null,
            "padding": null,
            "right": null,
            "top": null,
            "visibility": null,
            "width": null
          }
        },
        "af7d754e3b3848d1b52c07ab45af4515": {
          "model_module": "@jupyter-widgets/controls",
          "model_name": "SliderStyleModel",
          "model_module_version": "1.5.0",
          "state": {
            "_model_module": "@jupyter-widgets/controls",
            "_model_module_version": "1.5.0",
            "_model_name": "SliderStyleModel",
            "_view_count": null,
            "_view_module": "@jupyter-widgets/base",
            "_view_module_version": "1.2.0",
            "_view_name": "StyleView",
            "description_width": "",
            "handle_color": null
          }
        },
        "a15225505b064043958e72e7a8dbabcb": {
          "model_module": "@jupyter-widgets/base",
          "model_name": "LayoutModel",
          "model_module_version": "1.2.0",
          "state": {
            "_model_module": "@jupyter-widgets/base",
            "_model_module_version": "1.2.0",
            "_model_name": "LayoutModel",
            "_view_count": null,
            "_view_module": "@jupyter-widgets/base",
            "_view_module_version": "1.2.0",
            "_view_name": "LayoutView",
            "align_content": null,
            "align_items": null,
            "align_self": null,
            "border": null,
            "bottom": null,
            "display": null,
            "flex": null,
            "flex_flow": null,
            "grid_area": null,
            "grid_auto_columns": null,
            "grid_auto_flow": null,
            "grid_auto_rows": null,
            "grid_column": null,
            "grid_gap": null,
            "grid_row": null,
            "grid_template_areas": null,
            "grid_template_columns": null,
            "grid_template_rows": null,
            "height": null,
            "justify_content": null,
            "justify_items": null,
            "left": null,
            "margin": null,
            "max_height": null,
            "max_width": null,
            "min_height": null,
            "min_width": null,
            "object_fit": null,
            "object_position": null,
            "order": null,
            "overflow": null,
            "overflow_x": null,
            "overflow_y": null,
            "padding": null,
            "right": null,
            "top": null,
            "visibility": null,
            "width": null
          }
        }
      }
    }
  },
  "nbformat": 4,
  "nbformat_minor": 0
}