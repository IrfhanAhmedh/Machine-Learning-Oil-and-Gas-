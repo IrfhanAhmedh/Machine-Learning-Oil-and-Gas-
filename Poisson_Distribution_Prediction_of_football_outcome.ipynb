{
  "nbformat": 4,
  "nbformat_minor": 0,
  "metadata": {
    "colab": {
      "name": "Poisson Distribution-Prediction of football outcome.ipynb",
      "provenance": [],
      "collapsed_sections": [],
      "authorship_tag": "ABX9TyN/dnGFeAI3eDazyvPfXcEp",
      "include_colab_link": true
    },
    "kernelspec": {
      "name": "python3",
      "display_name": "Python 3"
    },
    "language_info": {
      "name": "python"
    }
  },
  "cells": [
    {
      "cell_type": "markdown",
      "metadata": {
        "id": "view-in-github",
        "colab_type": "text"
      },
      "source": [
        "<a href=\"https://colab.research.google.com/github/IrfhanAhmedh/Machine-Learning-Oil-and-Gas-/blob/main/Poisson_Distribution_Prediction_of_football_outcome.ipynb\" target=\"_parent\"><img src=\"https://colab.research.google.com/assets/colab-badge.svg\" alt=\"Open In Colab\"/></a>"
      ]
    },
    {
      "cell_type": "code",
      "metadata": {
        "id": "3cgRdcjwwj4T"
      },
      "source": [
        "import numpy as np\n",
        "import pandas as pd\n",
        "import matplotlib.pyplot as plt\n",
        "import seaborn as sns"
      ],
      "execution_count": 107,
      "outputs": []
    },
    {
      "cell_type": "code",
      "metadata": {
        "id": "M7EsCpm6O2wc"
      },
      "source": [
        "df=pd.read_csv('football_data.csv')"
      ],
      "execution_count": 13,
      "outputs": []
    },
    {
      "cell_type": "code",
      "metadata": {
        "colab": {
          "base_uri": "https://localhost:8080/",
          "height": 419
        },
        "id": "9ne-We3iPCSy",
        "outputId": "113e79fc-3463-4c6a-b79f-e18c58617b98"
      },
      "source": [
        "df"
      ],
      "execution_count": 14,
      "outputs": [
        {
          "output_type": "execute_result",
          "data": {
            "text/html": [
              "<div>\n",
              "<style scoped>\n",
              "    .dataframe tbody tr th:only-of-type {\n",
              "        vertical-align: middle;\n",
              "    }\n",
              "\n",
              "    .dataframe tbody tr th {\n",
              "        vertical-align: top;\n",
              "    }\n",
              "\n",
              "    .dataframe thead th {\n",
              "        text-align: right;\n",
              "    }\n",
              "</style>\n",
              "<table border=\"1\" class=\"dataframe\">\n",
              "  <thead>\n",
              "    <tr style=\"text-align: right;\">\n",
              "      <th></th>\n",
              "      <th>date</th>\n",
              "      <th>home_team</th>\n",
              "      <th>away_team</th>\n",
              "      <th>home_score</th>\n",
              "      <th>away_score</th>\n",
              "      <th>tournament</th>\n",
              "      <th>city</th>\n",
              "      <th>country</th>\n",
              "      <th>neutral</th>\n",
              "    </tr>\n",
              "  </thead>\n",
              "  <tbody>\n",
              "    <tr>\n",
              "      <th>0</th>\n",
              "      <td>1872-11-30</td>\n",
              "      <td>Scotland</td>\n",
              "      <td>England</td>\n",
              "      <td>0</td>\n",
              "      <td>0</td>\n",
              "      <td>Friendly</td>\n",
              "      <td>Glasgow</td>\n",
              "      <td>Scotland</td>\n",
              "      <td>False</td>\n",
              "    </tr>\n",
              "    <tr>\n",
              "      <th>1</th>\n",
              "      <td>1873-03-08</td>\n",
              "      <td>England</td>\n",
              "      <td>Scotland</td>\n",
              "      <td>4</td>\n",
              "      <td>2</td>\n",
              "      <td>Friendly</td>\n",
              "      <td>London</td>\n",
              "      <td>England</td>\n",
              "      <td>False</td>\n",
              "    </tr>\n",
              "    <tr>\n",
              "      <th>2</th>\n",
              "      <td>1874-03-07</td>\n",
              "      <td>Scotland</td>\n",
              "      <td>England</td>\n",
              "      <td>2</td>\n",
              "      <td>1</td>\n",
              "      <td>Friendly</td>\n",
              "      <td>Glasgow</td>\n",
              "      <td>Scotland</td>\n",
              "      <td>False</td>\n",
              "    </tr>\n",
              "    <tr>\n",
              "      <th>3</th>\n",
              "      <td>1875-03-06</td>\n",
              "      <td>England</td>\n",
              "      <td>Scotland</td>\n",
              "      <td>2</td>\n",
              "      <td>2</td>\n",
              "      <td>Friendly</td>\n",
              "      <td>London</td>\n",
              "      <td>England</td>\n",
              "      <td>False</td>\n",
              "    </tr>\n",
              "    <tr>\n",
              "      <th>4</th>\n",
              "      <td>1876-03-04</td>\n",
              "      <td>Scotland</td>\n",
              "      <td>England</td>\n",
              "      <td>3</td>\n",
              "      <td>0</td>\n",
              "      <td>Friendly</td>\n",
              "      <td>Glasgow</td>\n",
              "      <td>Scotland</td>\n",
              "      <td>False</td>\n",
              "    </tr>\n",
              "    <tr>\n",
              "      <th>...</th>\n",
              "      <td>...</td>\n",
              "      <td>...</td>\n",
              "      <td>...</td>\n",
              "      <td>...</td>\n",
              "      <td>...</td>\n",
              "      <td>...</td>\n",
              "      <td>...</td>\n",
              "      <td>...</td>\n",
              "      <td>...</td>\n",
              "    </tr>\n",
              "    <tr>\n",
              "      <th>41635</th>\n",
              "      <td>2020-09-08</td>\n",
              "      <td>Luxembourg</td>\n",
              "      <td>Montenegro</td>\n",
              "      <td>0</td>\n",
              "      <td>1</td>\n",
              "      <td>UEFA Nations League</td>\n",
              "      <td>Luxembourg City</td>\n",
              "      <td>Luxembourg</td>\n",
              "      <td>False</td>\n",
              "    </tr>\n",
              "    <tr>\n",
              "      <th>41636</th>\n",
              "      <td>2020-09-08</td>\n",
              "      <td>Cyprus</td>\n",
              "      <td>Azerbaijan</td>\n",
              "      <td>0</td>\n",
              "      <td>1</td>\n",
              "      <td>UEFA Nations League</td>\n",
              "      <td>Nicosia</td>\n",
              "      <td>Cyprus</td>\n",
              "      <td>False</td>\n",
              "    </tr>\n",
              "    <tr>\n",
              "      <th>41637</th>\n",
              "      <td>2020-09-08</td>\n",
              "      <td>Armenia</td>\n",
              "      <td>Estonia</td>\n",
              "      <td>2</td>\n",
              "      <td>0</td>\n",
              "      <td>UEFA Nations League</td>\n",
              "      <td>Yerevan</td>\n",
              "      <td>Armenia</td>\n",
              "      <td>False</td>\n",
              "    </tr>\n",
              "    <tr>\n",
              "      <th>41638</th>\n",
              "      <td>2020-09-08</td>\n",
              "      <td>Georgia</td>\n",
              "      <td>North Macedonia</td>\n",
              "      <td>1</td>\n",
              "      <td>1</td>\n",
              "      <td>UEFA Nations League</td>\n",
              "      <td>Tbilisi</td>\n",
              "      <td>Georgia</td>\n",
              "      <td>False</td>\n",
              "    </tr>\n",
              "    <tr>\n",
              "      <th>41639</th>\n",
              "      <td>2020-09-08</td>\n",
              "      <td>San Marino</td>\n",
              "      <td>Liechtenstein</td>\n",
              "      <td>0</td>\n",
              "      <td>2</td>\n",
              "      <td>UEFA Nations League</td>\n",
              "      <td>Rimini</td>\n",
              "      <td>Italy</td>\n",
              "      <td>True</td>\n",
              "    </tr>\n",
              "  </tbody>\n",
              "</table>\n",
              "<p>41640 rows × 9 columns</p>\n",
              "</div>"
            ],
            "text/plain": [
              "             date   home_team  ...     country  neutral\n",
              "0      1872-11-30    Scotland  ...    Scotland    False\n",
              "1      1873-03-08     England  ...     England    False\n",
              "2      1874-03-07    Scotland  ...    Scotland    False\n",
              "3      1875-03-06     England  ...     England    False\n",
              "4      1876-03-04    Scotland  ...    Scotland    False\n",
              "...           ...         ...  ...         ...      ...\n",
              "41635  2020-09-08  Luxembourg  ...  Luxembourg    False\n",
              "41636  2020-09-08      Cyprus  ...      Cyprus    False\n",
              "41637  2020-09-08     Armenia  ...     Armenia    False\n",
              "41638  2020-09-08     Georgia  ...     Georgia    False\n",
              "41639  2020-09-08  San Marino  ...       Italy     True\n",
              "\n",
              "[41640 rows x 9 columns]"
            ]
          },
          "metadata": {},
          "execution_count": 14
        }
      ]
    },
    {
      "cell_type": "code",
      "metadata": {
        "id": "m6Rky6zqPXHJ"
      },
      "source": [
        "df['date']=df['date'].apply(lambda x : int(str.split(x,'-')[0]))\n"
      ],
      "execution_count": 15,
      "outputs": []
    },
    {
      "cell_type": "code",
      "metadata": {
        "colab": {
          "base_uri": "https://localhost:8080/",
          "height": 419
        },
        "id": "9JVLRmcbPXA-",
        "outputId": "94e98f4b-30d1-43d7-aaff-0a0f7ec53f22"
      },
      "source": [
        "df=df[df['date']>=2000]\n",
        "df['Totalgoalscored']=df['home_score']+df['away_score']\n",
        "df"
      ],
      "execution_count": 19,
      "outputs": [
        {
          "output_type": "execute_result",
          "data": {
            "text/html": [
              "<div>\n",
              "<style scoped>\n",
              "    .dataframe tbody tr th:only-of-type {\n",
              "        vertical-align: middle;\n",
              "    }\n",
              "\n",
              "    .dataframe tbody tr th {\n",
              "        vertical-align: top;\n",
              "    }\n",
              "\n",
              "    .dataframe thead th {\n",
              "        text-align: right;\n",
              "    }\n",
              "</style>\n",
              "<table border=\"1\" class=\"dataframe\">\n",
              "  <thead>\n",
              "    <tr style=\"text-align: right;\">\n",
              "      <th></th>\n",
              "      <th>date</th>\n",
              "      <th>home_team</th>\n",
              "      <th>away_team</th>\n",
              "      <th>home_score</th>\n",
              "      <th>away_score</th>\n",
              "      <th>tournament</th>\n",
              "      <th>city</th>\n",
              "      <th>country</th>\n",
              "      <th>neutral</th>\n",
              "      <th>Totalgoalscored</th>\n",
              "    </tr>\n",
              "  </thead>\n",
              "  <tbody>\n",
              "    <tr>\n",
              "      <th>22448</th>\n",
              "      <td>2000</td>\n",
              "      <td>Egypt</td>\n",
              "      <td>Togo</td>\n",
              "      <td>2</td>\n",
              "      <td>1</td>\n",
              "      <td>Friendly</td>\n",
              "      <td>Aswan</td>\n",
              "      <td>Egypt</td>\n",
              "      <td>False</td>\n",
              "      <td>3</td>\n",
              "    </tr>\n",
              "    <tr>\n",
              "      <th>22449</th>\n",
              "      <td>2000</td>\n",
              "      <td>Tunisia</td>\n",
              "      <td>Togo</td>\n",
              "      <td>7</td>\n",
              "      <td>0</td>\n",
              "      <td>Friendly</td>\n",
              "      <td>Tunis</td>\n",
              "      <td>Tunisia</td>\n",
              "      <td>False</td>\n",
              "      <td>7</td>\n",
              "    </tr>\n",
              "    <tr>\n",
              "      <th>22450</th>\n",
              "      <td>2000</td>\n",
              "      <td>Trinidad and Tobago</td>\n",
              "      <td>Canada</td>\n",
              "      <td>0</td>\n",
              "      <td>0</td>\n",
              "      <td>Friendly</td>\n",
              "      <td>Port of Spain</td>\n",
              "      <td>Trinidad and Tobago</td>\n",
              "      <td>False</td>\n",
              "      <td>0</td>\n",
              "    </tr>\n",
              "    <tr>\n",
              "      <th>22451</th>\n",
              "      <td>2000</td>\n",
              "      <td>Burkina Faso</td>\n",
              "      <td>Gabon</td>\n",
              "      <td>1</td>\n",
              "      <td>1</td>\n",
              "      <td>Friendly</td>\n",
              "      <td>Ouagadougou</td>\n",
              "      <td>Burkina Faso</td>\n",
              "      <td>False</td>\n",
              "      <td>2</td>\n",
              "    </tr>\n",
              "    <tr>\n",
              "      <th>22452</th>\n",
              "      <td>2000</td>\n",
              "      <td>Guatemala</td>\n",
              "      <td>Armenia</td>\n",
              "      <td>1</td>\n",
              "      <td>1</td>\n",
              "      <td>Friendly</td>\n",
              "      <td>Los Angeles</td>\n",
              "      <td>United States</td>\n",
              "      <td>True</td>\n",
              "      <td>2</td>\n",
              "    </tr>\n",
              "    <tr>\n",
              "      <th>...</th>\n",
              "      <td>...</td>\n",
              "      <td>...</td>\n",
              "      <td>...</td>\n",
              "      <td>...</td>\n",
              "      <td>...</td>\n",
              "      <td>...</td>\n",
              "      <td>...</td>\n",
              "      <td>...</td>\n",
              "      <td>...</td>\n",
              "      <td>...</td>\n",
              "    </tr>\n",
              "    <tr>\n",
              "      <th>41635</th>\n",
              "      <td>2020</td>\n",
              "      <td>Luxembourg</td>\n",
              "      <td>Montenegro</td>\n",
              "      <td>0</td>\n",
              "      <td>1</td>\n",
              "      <td>UEFA Nations League</td>\n",
              "      <td>Luxembourg City</td>\n",
              "      <td>Luxembourg</td>\n",
              "      <td>False</td>\n",
              "      <td>1</td>\n",
              "    </tr>\n",
              "    <tr>\n",
              "      <th>41636</th>\n",
              "      <td>2020</td>\n",
              "      <td>Cyprus</td>\n",
              "      <td>Azerbaijan</td>\n",
              "      <td>0</td>\n",
              "      <td>1</td>\n",
              "      <td>UEFA Nations League</td>\n",
              "      <td>Nicosia</td>\n",
              "      <td>Cyprus</td>\n",
              "      <td>False</td>\n",
              "      <td>1</td>\n",
              "    </tr>\n",
              "    <tr>\n",
              "      <th>41637</th>\n",
              "      <td>2020</td>\n",
              "      <td>Armenia</td>\n",
              "      <td>Estonia</td>\n",
              "      <td>2</td>\n",
              "      <td>0</td>\n",
              "      <td>UEFA Nations League</td>\n",
              "      <td>Yerevan</td>\n",
              "      <td>Armenia</td>\n",
              "      <td>False</td>\n",
              "      <td>2</td>\n",
              "    </tr>\n",
              "    <tr>\n",
              "      <th>41638</th>\n",
              "      <td>2020</td>\n",
              "      <td>Georgia</td>\n",
              "      <td>North Macedonia</td>\n",
              "      <td>1</td>\n",
              "      <td>1</td>\n",
              "      <td>UEFA Nations League</td>\n",
              "      <td>Tbilisi</td>\n",
              "      <td>Georgia</td>\n",
              "      <td>False</td>\n",
              "      <td>2</td>\n",
              "    </tr>\n",
              "    <tr>\n",
              "      <th>41639</th>\n",
              "      <td>2020</td>\n",
              "      <td>San Marino</td>\n",
              "      <td>Liechtenstein</td>\n",
              "      <td>0</td>\n",
              "      <td>2</td>\n",
              "      <td>UEFA Nations League</td>\n",
              "      <td>Rimini</td>\n",
              "      <td>Italy</td>\n",
              "      <td>True</td>\n",
              "      <td>2</td>\n",
              "    </tr>\n",
              "  </tbody>\n",
              "</table>\n",
              "<p>19192 rows × 10 columns</p>\n",
              "</div>"
            ],
            "text/plain": [
              "       date            home_team  ... neutral  Totalgoalscored\n",
              "22448  2000                Egypt  ...   False                3\n",
              "22449  2000              Tunisia  ...   False                7\n",
              "22450  2000  Trinidad and Tobago  ...   False                0\n",
              "22451  2000         Burkina Faso  ...   False                2\n",
              "22452  2000            Guatemala  ...    True                2\n",
              "...     ...                  ...  ...     ...              ...\n",
              "41635  2020           Luxembourg  ...   False                1\n",
              "41636  2020               Cyprus  ...   False                1\n",
              "41637  2020              Armenia  ...   False                2\n",
              "41638  2020              Georgia  ...   False                2\n",
              "41639  2020           San Marino  ...    True                2\n",
              "\n",
              "[19192 rows x 10 columns]"
            ]
          },
          "metadata": {},
          "execution_count": 19
        }
      ]
    },
    {
      "cell_type": "code",
      "metadata": {
        "id": "Q8UKiFtfSWMU"
      },
      "source": [
        "highest_goal_scored=df['Totalgoalscored'].nlargest(1)"
      ],
      "execution_count": 41,
      "outputs": []
    },
    {
      "cell_type": "code",
      "metadata": {
        "id": "osiYvO0UQjO8"
      },
      "source": [
        "mean_goals_scored=df['Totalgoalscored'].mean()"
      ],
      "execution_count": 28,
      "outputs": []
    },
    {
      "cell_type": "code",
      "metadata": {
        "colab": {
          "base_uri": "https://localhost:8080/"
        },
        "id": "fNvahP6ZQySd",
        "outputId": "0d8530e3-5ed8-4d13-88b1-29744e895473"
      },
      "source": [
        "mean_goals_scored"
      ],
      "execution_count": 29,
      "outputs": [
        {
          "output_type": "execute_result",
          "data": {
            "text/plain": [
              "2.744112130054189"
            ]
          },
          "metadata": {},
          "execution_count": 29
        }
      ]
    },
    {
      "cell_type": "code",
      "metadata": {
        "id": "mEJ-ISP2t5oK"
      },
      "source": [
        "def factorial(x):\n",
        " x_fact=1\n",
        " for i in range(0,x):\n",
        "   x_fact=(x-i)*x_fact\n",
        " return x_fact"
      ],
      "execution_count": 2,
      "outputs": []
    },
    {
      "cell_type": "code",
      "metadata": {
        "id": "VT2N_h1wtU2H"
      },
      "source": [
        "def poison(x,mean):\n",
        "  prob=(mean**x)/(factorial(x)*np.exp(mean))\n",
        "  return prob"
      ],
      "execution_count": 3,
      "outputs": []
    },
    {
      "cell_type": "markdown",
      "metadata": {
        "id": "JjbA0hRcQ8Pb"
      },
      "source": [
        "chances of a match where total scored is Exactly 1 goal"
      ]
    },
    {
      "cell_type": "code",
      "metadata": {
        "colab": {
          "base_uri": "https://localhost:8080/"
        },
        "id": "g1MwWZ7gQ7N4",
        "outputId": "1ceebcee-8e52-4bca-f04c-d66bb213253f"
      },
      "source": [
        "x=1\n",
        "probability=poison(x,mean_goals_scored)\n",
        "probability*100"
      ],
      "execution_count": 33,
      "outputs": [
        {
          "output_type": "execute_result",
          "data": {
            "text/plain": [
              "17.646114697345254"
            ]
          },
          "metadata": {},
          "execution_count": 33
        }
      ]
    },
    {
      "cell_type": "markdown",
      "metadata": {
        "id": "-KoQMKXsRXN6"
      },
      "source": [
        "chances of a match where total scored is Exactly 5 goal"
      ]
    },
    {
      "cell_type": "code",
      "metadata": {
        "colab": {
          "base_uri": "https://localhost:8080/"
        },
        "id": "E6x7breKRQU_",
        "outputId": "a12c712b-0b4c-42bf-9808-583815ad7429"
      },
      "source": [
        "x=5\n",
        "probability=poison(x,mean_goals_scored)\n",
        "probability*100"
      ],
      "execution_count": 34,
      "outputs": [
        {
          "output_type": "execute_result",
          "data": {
            "text/plain": [
              "8.338256793082442"
            ]
          },
          "metadata": {},
          "execution_count": 34
        }
      ]
    },
    {
      "cell_type": "markdown",
      "metadata": {
        "id": "N-wBn2WWRvyh"
      },
      "source": [
        "chances of a match where total scored is less than 5 goal"
      ]
    },
    {
      "cell_type": "code",
      "metadata": {
        "colab": {
          "base_uri": "https://localhost:8080/"
        },
        "id": "IBtrI16qRtqk",
        "outputId": "fa471f8a-d145-4440-d35d-c823d9ed2b7d"
      },
      "source": [
        "x=5\n",
        "probability=0\n",
        "for i in range(0,x):\n",
        " probability=poison(i,mean_goals_scored)+probability\n",
        "probability*100"
      ],
      "execution_count": 50,
      "outputs": [
        {
          "output_type": "execute_result",
          "data": {
            "text/plain": [
              "85.62742535968549"
            ]
          },
          "metadata": {},
          "execution_count": 50
        }
      ]
    },
    {
      "cell_type": "markdown",
      "metadata": {
        "id": "yG2OxP0zU6ni"
      },
      "source": [
        "**Plotting Number of Goal Score vs Probability (Upto 7 goals)**"
      ]
    },
    {
      "cell_type": "code",
      "metadata": {
        "id": "ChashEWBkuHi"
      },
      "source": [
        "number_of_goal_score=np.arange(7)*0\n",
        "probability=np.arange(7)*0\n",
        "probability=probability.astype(float)\n",
        "for i in range (7):\n",
        " number_of_goal_score[i]=i\n",
        " probability[i]=poison(i,mean_goals_scored)*100\n"
      ],
      "execution_count": 97,
      "outputs": []
    },
    {
      "cell_type": "code",
      "metadata": {
        "colab": {
          "base_uri": "https://localhost:8080/",
          "height": 335
        },
        "id": "Ww8VRUgxlvvj",
        "outputId": "65b5c370-a07e-47cb-bddd-fca0f22a0af2"
      },
      "source": [
        "plt.figure(figsize=[10,5])\n",
        "sns.set_style('whitegrid')\n",
        "plt.scatter(number_of_goal_score,probability,marker='*',c='r')\n",
        "plt.xlabel('Number of goal score')\n",
        "plt.ylabel('probability in %')\n",
        "plt.show()"
      ],
      "execution_count": 116,
      "outputs": [
        {
          "output_type": "display_data",
          "data": {
            "image/png": "[encoded data removed]",
            "text/plain": [
              "<Figure size 720x360 with 1 Axes>"
            ]
          },
          "metadata": {}
        }
      ]
    }
  ]
}