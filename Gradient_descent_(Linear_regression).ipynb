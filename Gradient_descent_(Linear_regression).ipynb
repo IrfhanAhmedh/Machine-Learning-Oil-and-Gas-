{
  "nbformat": 4,
  "nbformat_minor": 0,
  "metadata": {
    "colab": {
      "name": "Gradient descent (Linear regression)",
      "provenance": [],
      "collapsed_sections": [],
      "include_colab_link": true
    },
    "kernelspec": {
      "display_name": "Python 3",
      "name": "python3"
    }
  },
  "cells": [
    {
      "cell_type": "markdown",
      "metadata": {
        "id": "view-in-github",
        "colab_type": "text"
      },
      "source": [
        "<a href=\"https://colab.research.google.com/github/IrfhanAhmedh/Machine-Learning-Oil-and-Gas-/blob/main/Gradient_descent_(Linear_regression).ipynb\" target=\"_parent\"><img src=\"https://colab.research.google.com/assets/colab-badge.svg\" alt=\"Open In Colab\"/></a>"
      ]
    },
    {
      "cell_type": "code",
      "metadata": {
        "id": "3z_sGpIbx164"
      },
      "source": [
        "import pandas as pd\n",
        "import numpy as np\n",
        "import matplotlib.pyplot as plt\n",
        "import seaborn as sns\n",
        "df=pd.read_excel('Dataset.xlsx')\n"
      ],
      "execution_count": null,
      "outputs": []
    },
    {
      "cell_type": "code",
      "metadata": {
        "id": "0ijEamPAN4JH"
      },
      "source": [
        "dfa=np.array(df)"
      ],
      "execution_count": null,
      "outputs": []
    },
    {
      "cell_type": "code",
      "metadata": {
        "id": "9IOa4idIPB-C"
      },
      "source": [
        "dfa=np.array(df)\n",
        "x=dfa[:,0]\n",
        "y=dfa[:,1]"
      ],
      "execution_count": null,
      "outputs": []
    },
    {
      "cell_type": "code",
      "metadata": {
        "id": "mvGdLa43y5jl"
      },
      "source": [
        "def gradient(lr,epoch):\n",
        " m=0\n",
        " b=0\n",
        " for i in range (epoch):\n",
        "  db=-2*(np.sum(y-(m*x+b)))\n",
        "  dm=-2*(np.sum((y-(m*x+b))*x))\n",
        "  b=b-(lr*db)\n",
        "  m=m-(lr*dm)\n",
        " return m,b"
      ],
      "execution_count": null,
      "outputs": []
    },
    {
      "cell_type": "code",
      "metadata": {
        "id": "kqrFsk2dneiX"
      },
      "source": [
        "slope,intercept=gradient(0.01,1000)"
      ],
      "execution_count": null,
      "outputs": []
    },
    {
      "cell_type": "code",
      "metadata": {
        "id": "1_VXIEjesUfV",
        "colab": {
          "base_uri": "https://localhost:8080/"
        },
        "outputId": "0b2bb063-300e-46c1-e3e8-2915c48ffce6"
      },
      "source": [
        "slope,intercept"
      ],
      "execution_count": null,
      "outputs": [
        {
          "output_type": "execute_result",
          "data": {
            "text/plain": [
              "(2.4994437038960764, -0.9987354081985629)"
            ]
          },
          "metadata": {},
          "execution_count": 481
        }
      ]
    },
    {
      "cell_type": "code",
      "metadata": {
        "id": "CY56tbntk_-y"
      },
      "source": [
        "y_pred=m*x+b"
      ],
      "execution_count": null,
      "outputs": []
    },
    {
      "cell_type": "code",
      "metadata": {
        "id": "cPNCdoEd9S33",
        "colab": {
          "base_uri": "https://localhost:8080/",
          "height": 320
        },
        "outputId": "2b8bc80f-838d-4699-f66b-10041e7d6915"
      },
      "source": [
        "plt.figure(figsize=[10,5])\n",
        "sns.set_style('whitegrid')\n",
        "plt.scatter(x,y,c='r')\n",
        "plt.plot(x,y_pred)\n",
        "plt.show()"
      ],
      "execution_count": null,
      "outputs": [
        {
          "output_type": "display_data",
          "data": {
            "image/png": "[encoded data removed]",
            "text/plain": [
              "<Figure size 720x360 with 1 Axes>"
            ]
          },
          "metadata": {}
        }
      ]
    },
    {
      "cell_type": "code",
      "metadata": {
        "id": "wOtaWaBcKkiu"
      },
      "source": [
        ""
      ],
      "execution_count": null,
      "outputs": []
    }
  ]
}